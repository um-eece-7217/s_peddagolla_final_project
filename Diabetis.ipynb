{
 "cells": [
  {
   "cell_type": "markdown",
   "metadata": {},
   "source": [
    "## Importing Libraries and Data"
   ]
  },
  {
   "cell_type": "code",
   "execution_count": 1,
   "metadata": {
    "executionInfo": {
     "elapsed": 45,
     "status": "ok",
     "timestamp": 1682008737529,
     "user": {
      "displayName": "Ranjith Kumar",
      "userId": "11187689623435247253"
     },
     "user_tz": -330
    },
    "id": "Q2ncIyx-g51B"
   },
   "outputs": [],
   "source": [
    "import pandas as pd\n",
    "import numpy as np\n",
    "from sklearn.model_selection import train_test_split, GridSearchCV\n",
    "from sklearn.preprocessing import StandardScaler\n",
    "from sklearn.linear_model import LogisticRegression\n",
    "from sklearn.tree import DecisionTreeClassifier\n",
    "from sklearn.ensemble import RandomForestClassifier\n",
    "from sklearn.metrics import confusion_matrix, classification_report, roc_curve, roc_auc_score\n",
    "from sklearn.discriminant_analysis import LinearDiscriminantAnalysis as LDA\n",
    "from sklearn.decomposition import PCA\n",
    "\n",
    "# Load dataset\n",
    "data = pd.read_csv(\"diabetes.csv\")\n"
   ]
  },
  {
   "cell_type": "markdown",
   "metadata": {},
   "source": [
    "## Data analysis"
   ]
  },
  {
   "cell_type": "code",
   "execution_count": 2,
   "metadata": {
    "colab": {
     "base_uri": "https://localhost:8080/"
    },
    "executionInfo": {
     "elapsed": 43,
     "status": "ok",
     "timestamp": 1682008737531,
     "user": {
      "displayName": "Ranjith Kumar",
      "userId": "11187689623435247253"
     },
     "user_tz": -330
    },
    "id": "BJTItM6ehAkI",
    "outputId": "21069f62-6d90-4c0f-9922-44e3f82d8167"
   },
   "outputs": [
    {
     "name": "stdout",
     "output_type": "stream",
     "text": [
      "   Pregnancies  Glucose  BloodPressure  SkinThickness  Insulin   BMI  \\\n",
      "0            6      148             72             35        0  33.6   \n",
      "1            1       85             66             29        0  26.6   \n",
      "2            8      183             64              0        0  23.3   \n",
      "3            1       89             66             23       94  28.1   \n",
      "4            0      137             40             35      168  43.1   \n",
      "\n",
      "   DiabetesPedigreeFunction  Age  Outcome  \n",
      "0                     0.627   50        1  \n",
      "1                     0.351   31        0  \n",
      "2                     0.672   32        1  \n",
      "3                     0.167   21        0  \n",
      "4                     2.288   33        1  \n",
      "       Pregnancies     Glucose  BloodPressure  SkinThickness     Insulin  \\\n",
      "count   768.000000  768.000000     768.000000     768.000000  768.000000   \n",
      "mean      3.845052  120.894531      69.105469      20.536458   79.799479   \n",
      "std       3.369578   31.972618      19.355807      15.952218  115.244002   \n",
      "min       0.000000    0.000000       0.000000       0.000000    0.000000   \n",
      "25%       1.000000   99.000000      62.000000       0.000000    0.000000   \n",
      "50%       3.000000  117.000000      72.000000      23.000000   30.500000   \n",
      "75%       6.000000  140.250000      80.000000      32.000000  127.250000   \n",
      "max      17.000000  199.000000     122.000000      99.000000  846.000000   \n",
      "\n",
      "              BMI  DiabetesPedigreeFunction         Age     Outcome  \n",
      "count  768.000000                768.000000  768.000000  768.000000  \n",
      "mean    31.992578                  0.471876   33.240885    0.348958  \n",
      "std      7.884160                  0.331329   11.760232    0.476951  \n",
      "min      0.000000                  0.078000   21.000000    0.000000  \n",
      "25%     27.300000                  0.243750   24.000000    0.000000  \n",
      "50%     32.000000                  0.372500   29.000000    0.000000  \n",
      "75%     36.600000                  0.626250   41.000000    1.000000  \n",
      "max     67.100000                  2.420000   81.000000    1.000000  \n"
     ]
    }
   ],
   "source": [
    "#Summary\n",
    "print(data.head())\n",
    "print(data.describe())\n"
   ]
  },
  {
   "cell_type": "code",
   "execution_count": 3,
   "metadata": {
    "executionInfo": {
     "elapsed": 40,
     "status": "ok",
     "timestamp": 1682008737533,
     "user": {
      "displayName": "Ranjith Kumar",
      "userId": "11187689623435247253"
     },
     "user_tz": -330
    },
    "id": "ovuiyxTUhVAE"
   },
   "outputs": [],
   "source": [
    "#Preprocessing \n",
    "X = data.iloc[:, :-1].values\n",
    "y = data.iloc[:, -1].values\n",
    "\n",
    "sc = StandardScaler()\n",
    "X = sc.fit_transform(X)\n"
   ]
  },
  {
   "cell_type": "markdown",
   "metadata": {},
   "source": [
    "## Data Splitting/Preparation"
   ]
  },
  {
   "cell_type": "code",
   "execution_count": 4,
   "metadata": {
    "colab": {
     "base_uri": "https://localhost:8080/"
    },
    "executionInfo": {
     "elapsed": 41,
     "status": "ok",
     "timestamp": 1682008737535,
     "user": {
      "displayName": "Ranjith Kumar",
      "userId": "11187689623435247253"
     },
     "user_tz": -330
    },
    "id": "tF_VVUiMhZAm",
    "outputId": "14fe31df-dcf2-4a19-b5cc-ecf3c34f02fd"
   },
   "outputs": [],
   "source": [
    "# Split data into training and testing sets\n",
    "X_train, X_test, y_train, y_test = train_test_split(X, y, test_size=0.2, random_state=0)"
   ]
  },
  {
   "cell_type": "markdown",
   "metadata": {},
   "source": [
    "## Model building"
   ]
  },
  {
   "cell_type": "code",
   "execution_count": 5,
   "metadata": {},
   "outputs": [],
   "source": [
    "# Logistic Regression\n",
    "logreg = LogisticRegression(random_state=0)\n",
    "logreg.fit(X_train, y_train)\n",
    "\n",
    "# Decision Tree\n",
    "dtc = DecisionTreeClassifier(random_state=0)\n",
    "dtc.fit(X_train, y_train)\n",
    "\n",
    "# Random Forest\n",
    "rfc = RandomForestClassifier(random_state=0)\n",
    "rfc.fit(X_train, y_train)\n",
    "\n",
    "# Predict probabilities for each model\n",
    "y_pred_prob_logreg = logreg.predict_proba(X_test)[:, 1]\n",
    "y_pred_prob_dtc = dtc.predict_proba(X_test)[:, 1]\n",
    "y_pred_prob_rfc = rfc.predict_proba(X_test)[:, 1]\n",
    "\n",
    "# ROC curve and AUC\n",
    "fpr_logreg, tpr_logreg, thresholds_logreg = roc_curve(y_test, y_pred_prob_logreg)\n",
    "fpr_dtc, tpr_dtc, thresholds_dtc = roc_curve(y_test, y_pred_prob_dtc)\n",
    "fpr_rfc, tpr_rfc, thresholds_rfc = roc_curve(y_test, y_pred_prob_rfc)\n",
    "\n",
    "auc_logreg = roc_auc_score(y_test, y_pred_prob_logreg)\n",
    "auc_dtc = roc_auc_score(y_test, y_pred_prob_dtc)\n",
    "auc_rfc = roc_auc_score(y_test, y_pred_prob_rfc)\n",
    "\n",
    "# Confusion Matrix and Classification Report\n",
    "y_pred_logreg = logreg.predict(X_test)\n",
    "y_pred_dtc = dtc.predict(X_test)\n",
    "y_pred_rfc = rfc.predict(X_test)\n",
    "\n",
    "cm_logreg = confusion_matrix(y_test, y_pred_logreg)\n",
    "cm_dtc = confusion_matrix(y_test, y_pred_dtc)\n",
    "cm_rfc = confusion_matrix(y_test, y_pred_rfc)\n",
    "\n",
    "cr_logreg = classification_report(y_test, y_pred_logreg)\n",
    "cr_dtc = classification_report(y_test, y_pred_dtc)\n",
    "cr_rfc = classification_report(y_test, y_pred_rfc)"
   ]
  },
  {
   "cell_type": "markdown",
   "metadata": {},
   "source": [
    "## Model evaluation"
   ]
  },
  {
   "cell_type": "code",
   "execution_count": 6,
   "metadata": {},
   "outputs": [
    {
     "name": "stdout",
     "output_type": "stream",
     "text": [
      "Logistic Regression\n",
      "AUC:  0.8661761781666335 \n",
      "Confusion Matrix:\n",
      " [[98  9]\n",
      " [18 29]] \n",
      "Classification Report:\n",
      "               precision    recall  f1-score   support\n",
      "\n",
      "           0       0.84      0.92      0.88       107\n",
      "           1       0.76      0.62      0.68        47\n",
      "\n",
      "    accuracy                           0.82       154\n",
      "   macro avg       0.80      0.77      0.78       154\n",
      "weighted avg       0.82      0.82      0.82       154\n",
      "\n",
      "Decision Trees\n",
      "AUC:  0.7316563929210578 \n",
      "Confusion Matrix:\n",
      " [[86 21]\n",
      " [16 31]] \n",
      "Classification Report:\n",
      "               precision    recall  f1-score   support\n",
      "\n",
      "           0       0.84      0.80      0.82       107\n",
      "           1       0.60      0.66      0.63        47\n",
      "\n",
      "    accuracy                           0.76       154\n",
      "   macro avg       0.72      0.73      0.72       154\n",
      "weighted avg       0.77      0.76      0.76       154\n",
      "\n",
      "Random Forest\n",
      "AUC:  0.8477828594153908 \n",
      "Confusion Matrix:\n",
      " [[92 15]\n",
      " [18 29]] \n",
      "Classification Report:\n",
      "               precision    recall  f1-score   support\n",
      "\n",
      "           0       0.84      0.86      0.85       107\n",
      "           1       0.66      0.62      0.64        47\n",
      "\n",
      "    accuracy                           0.79       154\n",
      "   macro avg       0.75      0.74      0.74       154\n",
      "weighted avg       0.78      0.79      0.78       154\n",
      "\n"
     ]
    }
   ],
   "source": [
    "# Print the results\n",
    "print(\"Logistic Regression\\nAUC: \", auc_logreg, \"\\nConfusion Matrix:\\n\", cm_logreg, \"\\nClassification Report:\\n\", cr_logreg)\n",
    "print(\"Decision Trees\\nAUC: \", auc_dtc, \"\\nConfusion Matrix:\\n\", cm_dtc, \"\\nClassification Report:\\n\", cr_dtc)\n",
    "print(\"Random Forest\\nAUC: \", auc_rfc, \"\\nConfusion Matrix:\\n\", cm_rfc, \"\\nClassification Report:\\n\", cr_rfc)"
   ]
  },
  {
   "cell_type": "markdown",
   "metadata": {},
   "source": [
    "## Region of Convergence"
   ]
  },
  {
   "cell_type": "code",
   "execution_count": 8,
   "metadata": {
    "colab": {
     "base_uri": "https://localhost:8080/",
     "height": 1000
    },
    "executionInfo": {
     "elapsed": 35,
     "status": "ok",
     "timestamp": 1682008737536,
     "user": {
      "displayName": "Ranjith Kumar",
      "userId": "11187689623435247253"
     },
     "user_tz": -330
    },
    "id": "AtcnC1PShbIr",
    "outputId": "697c15de-9391-4af7-f33f-67254ab7f6a4"
   },
   "outputs": [
    {
     "data": {
      "image/png": "[encoded data removed]",
      "text/plain": [
       "<Figure size 432x288 with 1 Axes>"
      ]
     },
     "metadata": {
      "needs_background": "light"
     },
     "output_type": "display_data"
    },
    {
     "name": "stdout",
     "output_type": "stream",
     "text": [
      "Logistic Regression with LDA\n",
      "AUC:  0.8767150526943727 \n",
      "Confusion Matrix:\n",
      " [[99  8]\n",
      " [18 29]] \n",
      "Classification Report:\n",
      "               precision    recall  f1-score   support\n",
      "\n",
      "           0       0.85      0.93      0.88       107\n",
      "           1       0.78      0.62      0.69        47\n",
      "\n",
      "    accuracy                           0.83       154\n",
      "   macro avg       0.81      0.77      0.79       154\n",
      "weighted avg       0.83      0.83      0.82       154\n",
      "\n",
      "Decision Trees with LDA\n",
      "AUC:  0.6538079140982302 \n",
      "Confusion Matrix:\n",
      " [[83 24]\n",
      " [22 25]] \n",
      "Classification Report:\n",
      "               precision    recall  f1-score   support\n",
      "\n",
      "           0       0.79      0.78      0.78       107\n",
      "           1       0.51      0.53      0.52        47\n",
      "\n",
      "    accuracy                           0.70       154\n",
      "   macro avg       0.65      0.65      0.65       154\n",
      "weighted avg       0.70      0.70      0.70       154\n",
      "\n",
      "Random Forest with LDA\n",
      "AUC:  0.7926029031616624 \n",
      "Confusion Matrix:\n",
      " [[83 24]\n",
      " [22 25]] \n",
      "Classification Report:\n",
      "               precision    recall  f1-score   support\n",
      "\n",
      "           0       0.79      0.78      0.78       107\n",
      "           1       0.51      0.53      0.52        47\n",
      "\n",
      "    accuracy                           0.70       154\n",
      "   macro avg       0.65      0.65      0.65       154\n",
      "weighted avg       0.70      0.70      0.70       154\n",
      "\n"
     ]
    },
    {
     "data": {
      "image/png": "[encoded data removed]",
      "text/plain": [
       "<Figure size 432x288 with 1 Axes>"
      ]
     },
     "metadata": {
      "needs_background": "light"
     },
     "output_type": "display_data"
    }
   ],
   "source": [
    "#Plot ROC curve\n",
    "import matplotlib.pyplot as plt\n",
    "\n",
    "plt.plot(fpr_logreg, tpr_logreg, label=\"Logistic Regression (AUC = {:.2f})\".format(auc_logreg))\n",
    "plt.plot(fpr_dtc, tpr_dtc, label=\"Decision Trees (AUC = {:.2f})\".format(auc_dtc))\n",
    "plt.plot(fpr_rfc, tpr_rfc, label=\"Random Forest (AUC = {:.2f})\".format(auc_rfc))\n",
    "plt.plot([0,1], [0,1], \"k--\")\n",
    "plt.xlabel(\"False Positive Rate\")\n",
    "plt.ylabel(\"True Positive Rate\")\n",
    "plt.title(\"ROC Curve\")\n",
    "plt.legend()\n",
    "plt.show()\n",
    "\n",
    "# LDA\n",
    "lda = LDA(n_components=1)\n",
    "X_lda = lda.fit_transform(X, y)\n",
    "\n",
    "# Split LDA data into training and testing sets\n",
    "X_train_lda, X_test_lda, y_train, y_test = train_test_split(X_lda, y, test_size=0.2, random_state=0)\n",
    "\n",
    "# Logistic Regression with LDA\n",
    "logreg_lda = LogisticRegression(random_state=0)\n",
    "logreg_lda.fit(X_train_lda, y_train)\n",
    "\n",
    "# Decision Tree with LDA\n",
    "dtc_lda = DecisionTreeClassifier(random_state=0)\n",
    "dtc_lda.fit(X_train_lda, y_train)\n",
    "\n",
    "# Random Forest with LDA\n",
    "rfc_lda = RandomForestClassifier(random_state=0)\n",
    "rfc_lda.fit(X_train_lda, y_train)\n",
    "\n",
    "# Predict probabilities for each model\n",
    "y_pred_prob_logreg_lda = logreg_lda.predict_proba(X_test_lda)[:, 1]\n",
    "y_pred_prob_dtc_lda = dtc_lda.predict_proba(X_test_lda)[:, 1]\n",
    "y_pred_prob_rfc_lda = rfc_lda.predict_proba(X_test_lda)[:, 1]\n",
    "\n",
    "# ROC curve and AUC\n",
    "fpr_logreg_lda, tpr_logreg_lda, thresholds_logreg_lda = roc_curve(y_test, y_pred_prob_logreg_lda)\n",
    "fpr_dtc_lda, tpr_dtc_lda, thresholds_dtc_lda = roc_curve(y_test, y_pred_prob_dtc_lda)\n",
    "fpr_rfc_lda, tpr_rfc_lda, thresholds_rfc_lda = roc_curve(y_test, y_pred_prob_rfc_lda)\n",
    "\n",
    "auc_logreg_lda = roc_auc_score(y_test, y_pred_prob_logreg_lda)\n",
    "auc_dtc_lda = roc_auc_score(y_test, y_pred_prob_dtc_lda)\n",
    "auc_rfc_lda = roc_auc_score(y_test, y_pred_prob_rfc_lda)\n",
    "\n",
    "# Confusion Matrix and Classification Report\n",
    "y_pred_logreg_lda = logreg_lda.predict(X_test_lda)\n",
    "y_pred_dtc_lda = dtc_lda.predict(X_test_lda)\n",
    "y_pred_rfc_lda = rfc_lda.predict(X_test_lda)\n",
    "\n",
    "cm_logreg_lda = confusion_matrix(y_test, y_pred_logreg_lda)\n",
    "cm_dtc_lda = confusion_matrix(y_test, y_pred_dtc_lda)\n",
    "cm_rfc_lda = confusion_matrix(y_test, y_pred_rfc_lda)\n",
    "\n",
    "\n",
    "#Print the results for each model with LDA\n",
    "cr_logreg_lda = classification_report(y_test, y_pred_logreg_lda)\n",
    "cr_dtc_lda = classification_report(y_test, y_pred_dtc_lda)\n",
    "cr_rfc_lda = classification_report(y_test, y_pred_rfc_lda)\n",
    "\n",
    "print(\"Logistic Regression with LDA\\nAUC: \", auc_logreg_lda, \"\\nConfusion Matrix:\\n\", cm_logreg_lda, \"\\nClassification Report:\\n\", cr_logreg_lda)\n",
    "print(\"Decision Trees with LDA\\nAUC: \", auc_dtc_lda, \"\\nConfusion Matrix:\\n\", cm_dtc_lda, \"\\nClassification Report:\\n\", cr_dtc_lda)\n",
    "print(\"Random Forest with LDA\\nAUC: \", auc_rfc_lda, \"\\nConfusion Matrix:\\n\", cm_rfc_lda, \"\\nClassification Report:\\n\", cr_rfc_lda)\n",
    "\n",
    "#Plot ROC curve\n",
    "plt.plot(fpr_logreg_lda, tpr_logreg_lda, label=\"Logistic Regression with LDA (AUC = {:.2f})\".format(auc_logreg_lda))\n",
    "plt.plot(fpr_dtc_lda, tpr_dtc_lda, label=\"Decision Trees with LDA (AUC = {:.2f})\".format(auc_dtc_lda))\n",
    "plt.plot(fpr_rfc_lda, tpr_rfc_lda, label=\"Random Forest with LDA (AUC = {:.2f})\".format(auc_rfc_lda))\n",
    "plt.plot([0,1], [0,1], \"k--\")\n",
    "plt.xlabel(\"False Positive Rate\")\n",
    "plt.ylabel(\"True Positive Rate\")\n",
    "plt.title(\"ROC Curve with LDA\")\n",
    "plt.legend()\n",
    "plt.show()\n",
    "\n"
   ]
  },
  {
   "cell_type": "code",
   "execution_count": null,
   "metadata": {},
   "outputs": [],
   "source": []
  }
 ],
 "metadata": {
  "colab": {
   "authorship_tag": "ABX9TyOlUFfiTiJeJWHgeUXfqdpC",
   "provenance": []
  },
  "kernelspec": {
   "display_name": "Python 3",
   "language": "python",
   "name": "python3"
  },
  "language_info": {
   "codemirror_mode": {
    "name": "ipython",
    "version": 3
   },
   "file_extension": ".py",
   "mimetype": "text/x-python",
   "name": "python",
   "nbconvert_exporter": "python",
   "pygments_lexer": "ipython3",
   "version": "3.7.10"
  }
 },
 "nbformat": 4,
 "nbformat_minor": 1
}
